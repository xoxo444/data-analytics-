{
  "nbformat": 4,
  "nbformat_minor": 0,
  "metadata": {
    "colab": {
      "provenance": []
    },
    "kernelspec": {
      "name": "python3",
      "display_name": "Python 3"
    },
    "language_info": {
      "name": "python"
    }
  },
  "cells": [
    {
      "cell_type": "code",
      "source": [
        "import pandas as pd\n",
        "import seaborn as sns\n",
        "import matplotlib.pyplot as plt\n"
      ],
      "metadata": {
        "id": "vPKYfz1VxQei"
      },
      "execution_count": null,
      "outputs": []
    },
    {
      "cell_type": "code",
      "source": [
        "url = 'https://raw.githubusercontent.com/datasciencedojo/datasets/master/titanic.csv'\n",
        "df = pd.read_csv(url)"
      ],
      "metadata": {
        "id": "e8iAf2qYxTqI"
      },
      "execution_count": null,
      "outputs": []
    },
    {
      "cell_type": "code",
      "source": [
        "print(\"Preview of the data:\")\n",
        "print(df.head())"
      ],
      "metadata": {
        "colab": {
          "base_uri": "https://localhost:8080/"
        },
        "id": "GmxsmzY-xXtR",
        "outputId": "94be2248-cf56-423b-9452-6934d9cd4bb3"
      },
      "execution_count": null,
      "outputs": [
        {
          "output_type": "stream",
          "name": "stdout",
          "text": [
            "Preview of the data:\n",
            "   PassengerId  Survived  Pclass  \\\n",
            "0            1         0       3   \n",
            "1            2         1       1   \n",
            "2            3         1       3   \n",
            "3            4         1       1   \n",
            "4            5         0       3   \n",
            "\n",
            "                                                Name     Sex   Age  SibSp  \\\n",
            "0                            Braund, Mr. Owen Harris    male  22.0      1   \n",
            "1  Cumings, Mrs. John Bradley (Florence Briggs Th...  female  38.0      1   \n",
            "2                             Heikkinen, Miss. Laina  female  26.0      0   \n",
            "3       Futrelle, Mrs. Jacques Heath (Lily May Peel)  female  35.0      1   \n",
            "4                           Allen, Mr. William Henry    male  35.0      0   \n",
            "\n",
            "   Parch            Ticket     Fare Cabin Embarked  \n",
            "0      0         A/5 21171   7.2500   NaN        S  \n",
            "1      0          PC 17599  71.2833   C85        C  \n",
            "2      0  STON/O2. 3101282   7.9250   NaN        S  \n",
            "3      0            113803  53.1000  C123        S  \n",
            "4      0            373450   8.0500   NaN        S  \n"
          ]
        }
      ]
    },
    {
      "cell_type": "code",
      "source": [
        "df_clean = df.dropna()\n"
      ],
      "metadata": {
        "id": "aogXJZF1xdnh"
      },
      "execution_count": null,
      "outputs": []
    },
    {
      "cell_type": "code",
      "source": [
        "print(\"\\n--- Central Tendency ---\")\n",
        "print(\"\\nMean:\\n\", df_clean.mean(numeric_only=True))\n",
        "print(\"\\nMedian:\\n\", df_clean.median(numeric_only=True))\n",
        "print(\"\\nMode:\\n\", df_clean.mode(numeric_only=True).iloc[0])\n",
        "\n",
        "print(\"\\nStandard Deviation:\\n\", df_clean.std(numeric_only=True))\n",
        "\n",
        "print(\"\\nPercentiles:\")\n",
        "percentiles = df_clean.quantile([0.25, 0.5, 0.75], numeric_only=True)\n",
        "print(percentiles)\n"
      ],
      "metadata": {
        "colab": {
          "base_uri": "https://localhost:8080/"
        },
        "id": "XkKOp_hvxzRZ",
        "outputId": "74fa5058-7fe5-4be8-e587-beeb5de13bd4"
      },
      "execution_count": null,
      "outputs": [
        {
          "output_type": "stream",
          "name": "stdout",
          "text": [
            "\n",
            "--- Central Tendency ---\n",
            "\n",
            "Mean:\n",
            " PassengerId    455.366120\n",
            "Survived         0.672131\n",
            "Pclass           1.191257\n",
            "Age             35.674426\n",
            "SibSp            0.464481\n",
            "Parch            0.475410\n",
            "Fare            78.682469\n",
            "dtype: float64\n",
            "\n",
            "Median:\n",
            " PassengerId    457.0\n",
            "Survived         1.0\n",
            "Pclass           1.0\n",
            "Age             36.0\n",
            "SibSp            0.0\n",
            "Parch            0.0\n",
            "Fare            57.0\n",
            "dtype: float64\n",
            "\n",
            "Mode:\n",
            " PassengerId     2.00\n",
            "Survived        1.00\n",
            "Pclass          1.00\n",
            "Age            36.00\n",
            "SibSp           0.00\n",
            "Parch           0.00\n",
            "Fare           26.55\n",
            "Name: 0, dtype: float64\n",
            "\n",
            "Standard Deviation:\n",
            " PassengerId    247.052476\n",
            "Survived         0.470725\n",
            "Pclass           0.515187\n",
            "Age             15.643866\n",
            "SibSp            0.644159\n",
            "Parch            0.754617\n",
            "Fare            76.347843\n",
            "dtype: float64\n",
            "\n",
            "Percentiles:\n",
            "      PassengerId  Survived  Pclass   Age  SibSp  Parch  Fare\n",
            "0.25        263.5       0.0     1.0  24.0    0.0    0.0  29.7\n",
            "0.50        457.0       1.0     1.0  36.0    0.0    0.0  57.0\n",
            "0.75        676.0       1.0     1.0  47.5    1.0    1.0  90.0\n"
          ]
        }
      ]
    },
    {
      "cell_type": "code",
      "source": [
        "\n",
        "\n",
        "print(\"\\n--- Covariance Matrix ---\")\n",
        "print(df_clean.cov(numeric_only=True))\n",
        "\n"
      ],
      "metadata": {
        "colab": {
          "base_uri": "https://localhost:8080/"
        },
        "id": "lScgb6Ybym46",
        "outputId": "023f7729-6825-47a3-c88e-4f86bde6608b"
      },
      "execution_count": null,
      "outputs": [
        {
          "output_type": "stream",
          "name": "stdout",
          "text": [
            "\n",
            "--- Covariance Matrix ---\n",
            "              PassengerId   Survived     Pclass         Age      SibSp  \\\n",
            "PassengerId  61034.925659  17.269051 -11.345133  119.553480 -13.286375   \n",
            "Survived        17.269051   0.221582  -0.008377   -1.871068   0.032246   \n",
            "Pclass         -11.345133  -0.008377   0.265418   -2.470357  -0.034378   \n",
            "Age            119.553480  -1.871068  -2.470357  244.730542  -1.573661   \n",
            "SibSp          -13.286375   0.032246  -0.034378   -1.573661   0.414940   \n",
            "Parch           -9.592596   0.008377   0.018465   -3.202391   0.124122   \n",
            "Fare           560.950864   4.824464 -12.399284 -110.388782  14.086806   \n",
            "\n",
            "                 Parch         Fare  \n",
            "PassengerId  -9.592596   560.950864  \n",
            "Survived      0.008377     4.824464  \n",
            "Pclass        0.018465   -12.399284  \n",
            "Age          -3.202391  -110.388782  \n",
            "SibSp         0.124122    14.086806  \n",
            "Parch         0.569447    22.454213  \n",
            "Fare         22.454213  5828.993085  \n"
          ]
        }
      ]
    },
    {
      "cell_type": "code",
      "source": [
        "\n",
        "\n",
        "Q1 = df_clean.quantile(0.25, numeric_only=True)\n",
        "Q3 = df_clean.quantile(0.75, numeric_only=True)\n",
        "IQR = Q3 - Q1\n",
        "\n",
        "print(\"\\n--- Interquartile Range (IQR) ---\")\n",
        "print(IQR)\n"
      ],
      "metadata": {
        "colab": {
          "base_uri": "https://localhost:8080/"
        },
        "id": "NKahgTopynQx",
        "outputId": "7fa32749-7ebd-4707-ecbf-8c647a027f20"
      },
      "execution_count": null,
      "outputs": [
        {
          "output_type": "stream",
          "name": "stdout",
          "text": [
            "\n",
            "--- Interquartile Range (IQR) ---\n",
            "PassengerId    412.5\n",
            "Survived         1.0\n",
            "Pclass           0.0\n",
            "Age             23.5\n",
            "SibSp            1.0\n",
            "Parch            1.0\n",
            "Fare            60.3\n",
            "dtype: float64\n"
          ]
        }
      ]
    },
    {
      "cell_type": "code",
      "source": [
        "\n",
        "plt.figure(figsize=(8, 4))\n",
        "sns.boxplot(x=df_clean['Fare'])\n",
        "plt.title(\"Boxplot of Fare\")\n",
        "plt.show()\n"
      ],
      "metadata": {
        "colab": {
          "base_uri": "https://localhost:8080/",
          "height": 410
        },
        "id": "LkspR4rYzYDa",
        "outputId": "2afc623c-e9e1-4842-9dcd-1ca022a9660d"
      },
      "execution_count": null,
      "outputs": [
        {
          "output_type": "display_data",
          "data": {
            "text/plain": [
              "<Figure size 800x400 with 1 Axes>"
            ],
            "image/png": "[encoded data removed]"
          },
          "metadata": {}
        }
      ]
    }
  ]
}